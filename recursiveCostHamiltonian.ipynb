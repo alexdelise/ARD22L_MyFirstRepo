{
 "cells": [
  {
   "cell_type": "markdown",
   "metadata": {},
   "source": [
    "## Manual Hamiltonian Construction"
   ]
  },
  {
   "cell_type": "markdown",
   "metadata": {},
   "source": [
    "The code below calculates the cost Hamiltonians for \n",
    "\n",
    "S0 : x0 = 1\n",
    "\n",
    "S1 : x0 + x1 = 1\n",
    "\n",
    "S2 : x0 + x1 + x2 = 1\n",
    "\n",
    "S3 : x0 + x1 + x2 + x3 = 1\n",
    "\n",
    "\n",
    "\n"
   ]
  },
  {
   "cell_type": "code",
   "execution_count": 305,
   "metadata": {},
   "outputs": [
    {
     "name": "stdout",
     "output_type": "stream",
     "text": [
      "S3:\n",
      " [[1. 0. 0. 0. 0. 0. 0. 0. 0. 0. 0. 0. 0. 0. 0. 0. 0. 0. 0. 0. 0. 0. 0. 0. 0. 0. 0. 0. 0. 0. 0. 0.]\n",
      " [0. 0. 0. 0. 0. 0. 0. 0. 0. 0. 0. 0. 0. 0. 0. 0. 0. 0. 0. 0. 0. 0. 0. 0. 0. 0. 0. 0. 0. 0. 0. 0.]\n",
      " [0. 0. 0. 0. 0. 0. 0. 0. 0. 0. 0. 0. 0. 0. 0. 0. 0. 0. 0. 0. 0. 0. 0. 0. 0. 0. 0. 0. 0. 0. 0. 0.]\n",
      " [0. 0. 0. 1. 0. 0. 0. 0. 0. 0. 0. 0. 0. 0. 0. 0. 0. 0. 0. 0. 0. 0. 0. 0. 0. 0. 0. 0. 0. 0. 0. 0.]\n",
      " [0. 0. 0. 0. 0. 0. 0. 0. 0. 0. 0. 0. 0. 0. 0. 0. 0. 0. 0. 0. 0. 0. 0. 0. 0. 0. 0. 0. 0. 0. 0. 0.]\n",
      " [0. 0. 0. 0. 0. 1. 0. 0. 0. 0. 0. 0. 0. 0. 0. 0. 0. 0. 0. 0. 0. 0. 0. 0. 0. 0. 0. 0. 0. 0. 0. 0.]\n",
      " [0. 0. 0. 0. 0. 0. 1. 0. 0. 0. 0. 0. 0. 0. 0. 0. 0. 0. 0. 0. 0. 0. 0. 0. 0. 0. 0. 0. 0. 0. 0. 0.]\n",
      " [0. 0. 0. 0. 0. 0. 0. 0. 0. 0. 0. 0. 0. 0. 0. 0. 0. 0. 0. 0. 0. 0. 0. 0. 0. 0. 0. 0. 0. 0. 0. 0.]\n",
      " [0. 0. 0. 0. 0. 0. 0. 0. 0. 0. 0. 0. 0. 0. 0. 0. 0. 0. 0. 0. 0. 0. 0. 0. 0. 0. 0. 0. 0. 0. 0. 0.]\n",
      " [0. 0. 0. 0. 0. 0. 0. 0. 0. 1. 0. 0. 0. 0. 0. 0. 0. 0. 0. 0. 0. 0. 0. 0. 0. 0. 0. 0. 0. 0. 0. 0.]\n",
      " [0. 0. 0. 0. 0. 0. 0. 0. 0. 0. 1. 0. 0. 0. 0. 0. 0. 0. 0. 0. 0. 0. 0. 0. 0. 0. 0. 0. 0. 0. 0. 0.]\n",
      " [0. 0. 0. 0. 0. 0. 0. 0. 0. 0. 0. 0. 0. 0. 0. 0. 0. 0. 0. 0. 0. 0. 0. 0. 0. 0. 0. 0. 0. 0. 0. 0.]\n",
      " [0. 0. 0. 0. 0. 0. 0. 0. 0. 0. 0. 0. 1. 0. 0. 0. 0. 0. 0. 0. 0. 0. 0. 0. 0. 0. 0. 0. 0. 0. 0. 0.]\n",
      " [0. 0. 0. 0. 0. 0. 0. 0. 0. 0. 0. 0. 0. 0. 0. 0. 0. 0. 0. 0. 0. 0. 0. 0. 0. 0. 0. 0. 0. 0. 0. 0.]\n",
      " [0. 0. 0. 0. 0. 0. 0. 0. 0. 0. 0. 0. 0. 0. 1. 0. 0. 0. 0. 0. 0. 0. 0. 0. 0. 0. 0. 0. 0. 0. 0. 0.]\n",
      " [0. 0. 0. 0. 0. 0. 0. 0. 0. 0. 0. 0. 0. 0. 0. 0. 0. 0. 0. 0. 0. 0. 0. 0. 0. 0. 0. 0. 0. 0. 0. 0.]\n",
      " [0. 0. 0. 0. 0. 0. 0. 0. 0. 0. 0. 0. 0. 0. 0. 0. 0. 0. 0. 0. 0. 0. 0. 0. 0. 0. 0. 0. 0. 0. 0. 0.]\n",
      " [0. 0. 0. 0. 0. 0. 0. 0. 0. 0. 0. 0. 0. 0. 0. 0. 0. 1. 0. 0. 0. 0. 0. 0. 0. 0. 0. 0. 0. 0. 0. 0.]\n",
      " [0. 0. 0. 0. 0. 0. 0. 0. 0. 0. 0. 0. 0. 0. 0. 0. 0. 0. 1. 0. 0. 0. 0. 0. 0. 0. 0. 0. 0. 0. 0. 0.]\n",
      " [0. 0. 0. 0. 0. 0. 0. 0. 0. 0. 0. 0. 0. 0. 0. 0. 0. 0. 0. 0. 0. 0. 0. 0. 0. 0. 0. 0. 0. 0. 0. 0.]\n",
      " [0. 0. 0. 0. 0. 0. 0. 0. 0. 0. 0. 0. 0. 0. 0. 0. 0. 0. 0. 0. 1. 0. 0. 0. 0. 0. 0. 0. 0. 0. 0. 0.]\n",
      " [0. 0. 0. 0. 0. 0. 0. 0. 0. 0. 0. 0. 0. 0. 0. 0. 0. 0. 0. 0. 0. 0. 0. 0. 0. 0. 0. 0. 0. 0. 0. 0.]\n",
      " [0. 0. 0. 0. 0. 0. 0. 0. 0. 0. 0. 0. 0. 0. 0. 0. 0. 0. 0. 0. 0. 0. 1. 0. 0. 0. 0. 0. 0. 0. 0. 0.]\n",
      " [0. 0. 0. 0. 0. 0. 0. 0. 0. 0. 0. 0. 0. 0. 0. 0. 0. 0. 0. 0. 0. 0. 0. 0. 0. 0. 0. 0. 0. 0. 0. 0.]\n",
      " [0. 0. 0. 0. 0. 0. 0. 0. 0. 0. 0. 0. 0. 0. 0. 0. 0. 0. 0. 0. 0. 0. 0. 0. 1. 0. 0. 0. 0. 0. 0. 0.]\n",
      " [0. 0. 0. 0. 0. 0. 0. 0. 0. 0. 0. 0. 0. 0. 0. 0. 0. 0. 0. 0. 0. 0. 0. 0. 0. 0. 0. 0. 0. 0. 0. 0.]\n",
      " [0. 0. 0. 0. 0. 0. 0. 0. 0. 0. 0. 0. 0. 0. 0. 0. 0. 0. 0. 0. 0. 0. 0. 0. 0. 0. 1. 0. 0. 0. 0. 0.]\n",
      " [0. 0. 0. 0. 0. 0. 0. 0. 0. 0. 0. 0. 0. 0. 0. 0. 0. 0. 0. 0. 0. 0. 0. 0. 0. 0. 0. 0. 0. 0. 0. 0.]\n",
      " [0. 0. 0. 0. 0. 0. 0. 0. 0. 0. 0. 0. 0. 0. 0. 0. 0. 0. 0. 0. 0. 0. 0. 0. 0. 0. 0. 0. 1. 0. 0. 0.]\n",
      " [0. 0. 0. 0. 0. 0. 0. 0. 0. 0. 0. 0. 0. 0. 0. 0. 0. 0. 0. 0. 0. 0. 0. 0. 0. 0. 0. 0. 0. 0. 0. 0.]\n",
      " [0. 0. 0. 0. 0. 0. 0. 0. 0. 0. 0. 0. 0. 0. 0. 0. 0. 0. 0. 0. 0. 0. 0. 0. 0. 0. 0. 0. 0. 0. 1. 0.]\n",
      " [0. 0. 0. 0. 0. 0. 0. 0. 0. 0. 0. 0. 0. 0. 0. 0. 0. 0. 0. 0. 0. 0. 0. 0. 0. 0. 0. 0. 0. 0. 0. 0.]]\n"
     ]
    }
   ],
   "source": [
    "import numpy as np\n",
    "\n",
    "# Define matrices A, B, and I\n",
    "A = np.array([\n",
    "    [0, 0],\n",
    "    [0, 1]\n",
    "])\n",
    "\n",
    "B = np.array([\n",
    "    [1, 0],\n",
    "    [0, 0]\n",
    "])\n",
    "\n",
    "I = np.eye(2)  # Identity matrix\n",
    "\n",
    "# Calculate C using Kronecker product\n",
    "C = np.kron(B, A) + np.kron(A, B)\n",
    "\n",
    "# Compute S0\n",
    "S0 = (np.eye(4) - C)\n",
    "\n",
    "# Compute S1\n",
    "S1 = np.kron(B, S0) + np.kron(A, C)\n",
    "\n",
    "# Compute S2\n",
    "S2 = np.kron(B, S1) + np.kron(A, np.kron(B, C) + np.kron(np.kron(A, I), B))\n",
    "\n",
    "# Compute S3\n",
    "S3 = np.kron(B, S2) + np.kron( A, np.kron(  B, np.kron(B, C) + np.kron(np.kron(A, I), B)  ) + np.kron(  A, np.kron(np.kron(I, I), B)  ) )\n",
    "\n",
    "np.set_printoptions(threshold=np.inf, precision=3, suppress=True, linewidth=200)\n",
    "\n",
    "print(\"S3:\\n\", S3)\n"
   ]
  },
  {
   "cell_type": "markdown",
   "metadata": {},
   "source": [
    "## Automatic Hamiltonian Construction"
   ]
  },
  {
   "cell_type": "code",
   "execution_count": 471,
   "metadata": {},
   "outputs": [
    {
     "data": {
      "text/plain": [
       "(0.5 * (I(0) + Z(0))) @ ((0.5 * (I(3) + Z(3))) @ ((0.5 * (I(2) + -1 * Z(2))) @ (0.5 * (I(1) + Z(1))) + (0.5 * (I(2) + Z(2))) @ (0.5 * (I(1) + -1 * Z(1)))) + (0.5 * (I(3) + -1 * Z(3))) @ I(2) @ (0.5 * (I(1) + Z(1))))"
      ]
     },
     "execution_count": 471,
     "metadata": {},
     "output_type": "execute_result"
    }
   ],
   "source": [
    "import pennylane as qml\n",
    "from pennylane import numpy as np\n",
    "from pennylane import I, X, Y, Z\n",
    "\n",
    "def A(i):\n",
    "    return 0.5 * (qml.I(i) - qml.Z(i))\n",
    "\n",
    "def B(i):\n",
    "    return 0.5 * (qml.I(i) + qml.Z(i))\n",
    "\n",
    "def C(i, j):\n",
    "    return (A(i) @ B(j)) + (B(i) @ A(j)) \n",
    "\n",
    "def I(n):\n",
    "    return qml.Identity(n)\n",
    "\n",
    "def Q(n):\n",
    "    recQ = []\n",
    "    \n",
    "    # First in Q recursive series \n",
    "    Q0 = (B(n) @ C(n-1, n-2)) + (A(n) @ I(n-1) @ B(n-2))\n",
    "    recQ.append(Q0)\n",
    "    \n",
    "    if n > 2:\n",
    "        for i in range(2, n):\n",
    "            currentQmat = A(i)\n",
    "            for j in range(0, i+1):\n",
    "                currentQmat = currentQmat @ I(j+1)\n",
    "            #currentQmat = (currentQmat @ I(i-1) @ B(i-2))\n",
    "            #print(np.real(qml.matrix(currentQmat)))\n",
    "            currentQmat = (B(i-2) @ recQ[i-2])\n",
    "            recQ.append(currentQmat)\n",
    "        \n",
    "    return recQ[n-2]\n",
    "\n",
    "def S(n):\n",
    "    recS = []\n",
    "    \n",
    "    # First in S recursive series\n",
    "    S0 = qml.I(n-1) - C(n-1, n-2)\n",
    "    recS.append(S0)\n",
    "    S1 = (B(n) @ S0) + (A(n) @ C(n-1, n-2))\n",
    "    recS.append(S1)\n",
    "\n",
    "    if n == 0:\n",
    "        return recS[0]\n",
    "    elif n == 1:\n",
    "        return recS[1]\n",
    "    else:\n",
    "        for i in range(2, n+1):\n",
    "            currentSmat = (B(i) @ recS[i-1]) + (A(i) @ Q(i-1))\n",
    "            recS.append(currentSmat)\n",
    "        \n",
    "        return recS[n]\n",
    "\n",
    "def constructCostH(n):\n",
    "    return S(n)\n",
    "\n",
    "# Test the function\n",
    "n = 3\n",
    "Q(n)\n",
    "#print(np.real(qml.matrix(Q(n))))\n"
   ]
  },
  {
   "cell_type": "code",
   "execution_count": 474,
   "metadata": {},
   "outputs": [
    {
     "name": "stdout",
     "output_type": "stream",
     "text": [
      "[[0. 0. 0. 0. 0. 0. 0. 0. 0. 0. 0. 0. 0. 0. 0. 0.]\n",
      " [0. 0. 0. 0. 0. 0. 0. 0. 0. 0. 0. 0. 0. 0. 0. 0.]\n",
      " [0. 0. 1. 0. 0. 0. 0. 0. 0. 0. 0. 0. 0. 0. 0. 0.]\n",
      " [0. 0. 0. 0. 0. 0. 0. 0. 0. 0. 0. 0. 0. 0. 0. 0.]\n",
      " [0. 0. 0. 0. 1. 0. 0. 0. 0. 0. 0. 0. 0. 0. 0. 0.]\n",
      " [0. 0. 0. 0. 0. 0. 0. 0. 0. 0. 0. 0. 0. 0. 0. 0.]\n",
      " [0. 0. 0. 0. 0. 0. 0. 0. 0. 0. 0. 0. 0. 0. 0. 0.]\n",
      " [0. 0. 0. 0. 0. 0. 0. 0. 0. 0. 0. 0. 0. 0. 0. 0.]\n",
      " [0. 0. 0. 0. 0. 0. 0. 0. 2. 0. 0. 0. 0. 0. 0. 0.]\n",
      " [0. 0. 0. 0. 0. 0. 0. 0. 0. 0. 0. 0. 0. 0. 0. 0.]\n",
      " [0. 0. 0. 0. 0. 0. 0. 0. 0. 0. 2. 0. 0. 0. 0. 0.]\n",
      " [0. 0. 0. 0. 0. 0. 0. 0. 0. 0. 0. 0. 0. 0. 0. 0.]\n",
      " [0. 0. 0. 0. 0. 0. 0. 0. 0. 0. 0. 0. 1. 0. 0. 0.]\n",
      " [0. 0. 0. 0. 0. 0. 0. 0. 0. 0. 0. 0. 0. 0. 0. 0.]\n",
      " [0. 0. 0. 0. 0. 0. 0. 0. 0. 0. 0. 0. 0. 0. 1. 0.]\n",
      " [0. 0. 0. 0. 0. 0. 0. 0. 0. 0. 0. 0. 0. 0. 0. 0.]]\n"
     ]
    }
   ],
   "source": [
    "coeff = [1, 1]\n",
    "obs = []\n",
    "\n",
    "# Alternating Ones and Zeros \n",
    "obs.append((\n",
    "  (0.5 * (I(2) + -1 * Z(2))) @ I(1) @ I(2) @ I(3) @ I(1) @ (0.5 * (I(0) + Z(0)))) \n",
    ")\n",
    "\n",
    "# First portion\n",
    "obs.append(\n",
    "  (0.5 * (I(0) + Z(0))) @ ((0.5 * (I(3) + Z(3))) @ ((0.5 * (I(2) + -1 * Z(2))) @ (0.5 * (I(1) + Z(1))) + (0.5 * (I(2) + Z(2))) @ (0.5 * (I(1) + -1 * Z(1)))) + (0.5 * (I(3) + -1 * Z(3))) @ I(2) @ (0.5 * (I(1) + Z(1))))\n",
    ")\n",
    "\n",
    "hamiltonian = qml.Hamiltonian(coeff, obs)\n",
    "print(np.real(qml.matrix(hamiltonian)))"
   ]
  }
 ],
 "metadata": {
  "kernelspec": {
   "display_name": "base",
   "language": "python",
   "name": "python3"
  },
  "language_info": {
   "codemirror_mode": {
    "name": "ipython",
    "version": 3
   },
   "file_extension": ".py",
   "mimetype": "text/x-python",
   "name": "python",
   "nbconvert_exporter": "python",
   "pygments_lexer": "ipython3",
   "version": "3.11.5"
  }
 },
 "nbformat": 4,
 "nbformat_minor": 2
}
